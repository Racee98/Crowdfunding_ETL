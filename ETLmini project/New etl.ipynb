{
 "cells": [
  {
   "cell_type": "code",
   "execution_count": null,
   "id": "e3b30d5c",
   "metadata": {},
   "outputs": [],
   "source": [
    "# Import dependencies\n",
    "import pandas as pd\n",
    "import numpy as np\n",
    "from datetime import datetime \n",
    "import re\n",
    "pd.set_option('max_colwidth', 400)"
   ]
  },
  {
   "cell_type": "markdown",
   "id": "fc181f59",
   "metadata": {},
   "source": [
    "# Extract the Data"
   ]
  },
  {
   "cell_type": "code",
   "execution_count": null,
   "id": "7ea41410",
   "metadata": {},
   "outputs": [],
   "source": [
    "# Read the data into a Pandas DataFrame\n",
    "crowdfunding_info_df = pd.read_excel('Resources/crowdfunding.xlsx')\n",
    "crowdfunding_info_df.head(1)\n"
   ]
  },
  {
   "cell_type": "code",
   "execution_count": null,
   "id": "633bca79",
   "metadata": {},
   "outputs": [],
   "source": [
    "# Get a brief summary of the crowdfunding_info DataFrame.\n",
    "crowdfunding_info_df.info()\n"
   ]
  },
  {
   "cell_type": "markdown",
   "id": "3461b6cd",
   "metadata": {},
   "source": [
    "### Create the Category and Subcategory DataFrames\n",
    "---\n",
    "**Create a Category DataFrame that has the following columns:**\n",
    "- A \"category_id\" column that is numbered sequential form 1 to the length of the number of unique categories.\n",
    "- A \"category\" column that has only the categories.\n",
    "\n",
    "Export the DataFrame as a `category.csv` CSV file.\n",
    "\n",
    "**Create a SubCategory DataFrame that has the following columns:**\n",
    "- A \"subcategory_id\" column that is numbered sequential form 1 to the length of the number of unique subcategories.\n",
    "- A \"subcategory\" column that has only the subcategories. \n",
    "\n",
    "Export the DataFrame as a `subcategory.csv` CSV file."
   ]
  },
  {
   "cell_type": "code",
   "execution_count": null,
   "id": "d71455d3",
   "metadata": {},
   "outputs": [],
   "source": [
    "# Get the crowdfunding_info_df columns.\n",
    "\n",
    "crowdfunding_info_df.columns\n"
   ]
  },
  {
   "cell_type": "code",
   "execution_count": null,
   "id": "872fb365",
   "metadata": {},
   "outputs": [],
   "source": [
    "# Assign the category and subcategory values to category and subcategory columns.\n",
    "crowdfunding_info_df[['Category', 'SubCategory']] = pd.DataFrame(crowdfunding_info_df['category & sub-category'].str.split('/').tolist())\n",
    "crowdfunding_info_df.columns    \n",
    "crowdfunding_info_df.head()\n"
   ]
  },
  {
   "cell_type": "code",
   "execution_count": null,
   "id": "82ab73d9",
   "metadata": {},
   "outputs": [],
   "source": [
    "# Get the unique categories and subcategories in separate lists.\n",
    "categories = crowdfunding_info_df['Category'].unique()\n",
    "subcategories = crowdfunding_info_df['SubCategory'].unique()\n",
    "\n",
    "print(categories)\n",
    "print(subcategories)\n"
   ]
  },
  {
   "cell_type": "code",
   "execution_count": null,
   "id": "80a62992",
   "metadata": {},
   "outputs": [],
   "source": [
    "# Get the number of distinct values in the categories and subcategories lists.\n",
    "print(len(categories))\n",
    "print(len(subcategories))\n"
   ]
  },
  {
   "cell_type": "code",
   "execution_count": null,
   "id": "beeda508",
   "metadata": {},
   "outputs": [],
   "source": [
    "# Create numpy arrays from 1-9 for the categories and 1-24 for the subcategories.\n",
    "category_ids = np.arange(1, 10)\n",
    "subcategory_ids = np.arange(1, 25)\n",
    "\n",
    "print(category_ids)\n",
    "print(subcategory_ids)\n"
   ]
  },
  {
   "cell_type": "code",
   "execution_count": null,
   "id": "21d00170",
   "metadata": {},
   "outputs": [],
   "source": [
    "# Use a list comprehension to add \"cat\" to each category_id. \n",
    "cat_ids = []\n",
    "scat_ids = []\n",
    "\n",
    "\n",
    "# Using List comprehension \n",
    "cat_ids = [\"cat\"+str(x) for x in category_ids ]\n",
    "scat_ids= [\"subcat\"+str(x) for x in subcategory_ids]\n",
    "\n",
    "    \n",
    "print(cat_ids)\n",
    "print(scat_ids)\n"
   ]
  },
  {
   "cell_type": "code",
   "execution_count": null,
   "id": "fbca8d75",
   "metadata": {},
   "outputs": [],
   "source": [
    "# Create a category DataFrame with the category_id array as the category_id and categories list as the category name.\n",
    "\n",
    "category_df = pd.DataFrame({\n",
    "              'category_id': (cat_ids) , \n",
    "              'category': (categories) })\n",
    "category_df\n",
    "\n",
    "subcategory_df = pd.DataFrame({\n",
    "              'subcategory_id': (scat_ids) , \n",
    "              'subcategory': (subcategories) })\n"
   ]
  },
  {
   "cell_type": "code",
   "execution_count": null,
   "id": "4c0d6fcc",
   "metadata": {},
   "outputs": [],
   "source": [
    "category_df.info()\n"
   ]
  },
  {
   "cell_type": "code",
   "execution_count": null,
   "id": "ebc1b6a0",
   "metadata": {},
   "outputs": [],
   "source": [
    "subcategory_df.info()\n"
   ]
  },
  {
   "cell_type": "code",
   "execution_count": null,
   "id": "ff74054a",
   "metadata": {},
   "outputs": [],
   "source": [
    "# Export categories_df and subcategories_df as CSV files.\n",
    "category_df.to_csv(\"Resources/category.csv\", index=False)\n",
    "\n",
    "subcategory_df.to_csv(\"Resources/subcategory.csv\", index=False)\n"
   ]
  },
  {
   "cell_type": "markdown",
   "id": "a829c683",
   "metadata": {},
   "source": [
    "# Campaign DataFrame\n",
    "----\n",
    "*Create a Campaign DataFrame that has the following columns:**\n",
    "- The \"cf_id\" column.\n",
    "- The \"contact_id\" column.\n",
    "- The “company_name” column.\n",
    "- The \"blurb\" column is renamed as \"description.\"\n",
    "- The \"goal\" column.\n",
    "- The \"goal\" column is converted to a `float` datatype.\n",
    "- The \"pledged\" column is converted to a `float` datatype. \n",
    "- The \"backers_count\" column. \n",
    "- The \"country\" column.\n",
    "- The \"currency\" column.\n",
    "- The \"launched_at\" column is renamed as \"launch_date\" and converted to a datetime format. \n",
    "- The \"deadline\" column is renamed as \"end_date\" and converted to a datetime format.\n",
    "- The \"category_id\" with the unique number matching the “category_id” from the category DataFrame. \n",
    "- The \"subcategory_id\" with the unique number matching the “subcategory_id” from the subcategory DataFrame.\n",
    "- And, create a column that contains the unique four-digit contact ID number from the `contact.xlsx` file.\n",
    " \n",
    "\n",
    "Then export the DataFrame as a `campaign.csv` CSV file.\n"
   ]
  },
  {
   "cell_type": "code",
   "execution_count": null,
   "id": "e28f9540",
   "metadata": {},
   "outputs": [],
   "source": [
    "campaign_df = crowdfunding_info_df.copy()\n",
    "campaign_df.info()\n"
   ]
  },
  {
   "cell_type": "code",
   "execution_count": null,
   "id": "2d7d68a3",
   "metadata": {},
   "outputs": [],
   "source": [
    "# Create a copy of the crowdfunding_info_df DataFrame name campaign_df. \n",
    "campaign_df = crowdfunding_info_df.copy()\n",
    "campaign_df.head()\n"
   ]
  },
  {
   "cell_type": "code",
   "execution_count": null,
   "id": "8f4e91d6",
   "metadata": {},
   "outputs": [],
   "source": [
    "# Rename the blurb, launched_at, and deadline columns.\n",
    "campaign_df.rename(columns={'blurb':'description',\n",
    "                    'launched_at':'launched_date',\n",
    "                    'deadline':'end_date'\n",
    "    \n",
    "},inplace=True)"
   ]
  },
  {
   "cell_type": "code",
   "execution_count": null,
   "id": "2be53525",
   "metadata": {},
   "outputs": [],
   "source": [
    "campaign_df.head()\n"
   ]
  },
  {
   "cell_type": "code",
   "execution_count": null,
   "id": "4c761a3d",
   "metadata": {},
   "outputs": [],
   "source": [
    "# Convert the goal and pledged columns to a `float` data type.\n",
    "campaign_df['goal']=campaign_df['goal'].astype(float)\n",
    "campaign_df['pledged']=campaign_df['pledged'].astype(float)\n"
   ]
  },
  {
   "cell_type": "code",
   "execution_count": null,
   "id": "e77db1d0",
   "metadata": {},
   "outputs": [],
   "source": [
    "# Check the datatypes\n",
    "campaign_df.dtypes\n"
   ]
  },
  {
   "cell_type": "code",
   "execution_count": null,
   "id": "32e16c11",
   "metadata": {},
   "outputs": [],
   "source": [
    "# Format the launched_date and end_date columns to datetime format\n",
    "from datetime import datetime as dt\n",
    "campaign_df['end_date'] = pd.to_datetime(campaign_df['end_date'])\n",
    "campaign_df['launch_date'] = pd.to_datetime(campaign_df['launch_date'])\n",
    "\n",
    "# cleanup other columns to match the requirements \n",
    "campaign_df.rename(columns={\"Category\": \"category\"},inplace=True\n",
    "campaign_merged_df.rename(columns={\"SubCategory\":\"subcategory\"}, inplace=True)\n"
   ]
  },
  {
   "cell_type": "code",
   "execution_count": null,
   "id": "76dda087",
   "metadata": {},
   "outputs": [],
   "source": [
    "# Merge the campaign_df with the category_df on the \"category\" column and \n",
    "# the subcategory_df on the \"subcategory\" column.\n",
    "df=campaign_df.merge(category_df,on='category',how='right')\n",
    "campaign_merged_df=df.merge(subcategory_df,on='subcategory',how='right')\n",
    "campaign_merged_df.tail(10)\n"
   ]
  },
  {
   "cell_type": "code",
   "execution_count": null,
   "id": "7647bcc1",
   "metadata": {},
   "outputs": [],
   "source": [
    "# Drop unwanted columns\n",
    "campaign_cleaned=campaign_merged_df.drop(['category & sub-category','category','subcategory','staff_pick','spotlight'],axis=1)\n",
    "\n"
   ]
  },
  {
   "cell_type": "code",
   "execution_count": null,
   "id": "3d69841d",
   "metadata": {},
   "outputs": [],
   "source": [
    "campaign_cleaned.head()\n"
   ]
  },
  {
   "cell_type": "code",
   "execution_count": null,
   "id": "fb9e31da",
   "metadata": {},
   "outputs": [],
   "source": [
    "campaign_cleaned.dtypes\n"
   ]
  },
  {
   "cell_type": "code",
   "execution_count": null,
   "id": "b75c8bb8",
   "metadata": {},
   "outputs": [],
   "source": [
    "# Export the DataFrame as a CSV file. \n",
    "campaign_cleaned.to_csv(\"Resources/campaign.csv\", index=False)\n"
   ]
  },
  {
   "cell_type": "markdown",
   "id": "0136890f",
   "metadata": {},
   "source": [
    "# Extract the contacts.xlsx Data."
   ]
  },
  {
   "cell_type": "code",
   "execution_count": null,
   "id": "f5536704",
   "metadata": {},
   "outputs": [],
   "source": [
    "# Read the data into a Pandas DataFrame. Use the `header=2` parameter when reading in the data.\n",
    "contact_info_df = pd.read_excel('Resources/contacts.xlsx', header=2)\n",
    "contact_info_df.head()"
   ]
  },
  {
   "cell_type": "markdown",
   "id": "ae651d1d",
   "metadata": {},
   "source": [
    "# Create the Contacts DataFrame\n",
    "Create a Contacts DataFrame that has the following columns:\n",
    "\n",
    "A column named \"contact_id\" that contains the unique number of the contact person.\n",
    "A column named \"first_name\" that contains the first name of the contact person.\n",
    "A column named \"last_name\" that contains the first name of the contact person.\n",
    "A column named \"email\" that contains the email address of the contact person\n",
    "Then export the DataFrame as a contacts.csv CSV file.\n",
    "\n",
    "Option 1: Use Pandas to create the contacts DataFrame."
   ]
  },
  {
   "cell_type": "code",
   "execution_count": null,
   "id": "98bccb03",
   "metadata": {},
   "outputs": [],
   "source": []
  },
  {
   "cell_type": "code",
   "execution_count": null,
   "id": "8618f7d9",
   "metadata": {},
   "outputs": [],
   "source": [
    "# Iterate through the contact_info_df and convert each row to a dictionary.\n",
    "import json\n",
    "# Convert the data to a Python dictionary list. \n",
    "dict_values = [json.loads(x) for x in contact_info_df['contact_info']]\n",
    "\n",
    "\n",
    "# Print out the list of values for each row.\n",
    "print(dict_values)"
   ]
  },
  {
   "cell_type": "code",
   "execution_count": null,
   "id": "fa6346c4",
   "metadata": {},
   "outputs": [],
   "source": [
    "#Create the contact_id list\n",
    "contact_id=[x['contact_id'] for x in dict_values]\n",
    "print(contact_id)"
   ]
  },
  {
   "cell_type": "code",
   "execution_count": null,
   "id": "d5a7e1d2",
   "metadata": {},
   "outputs": [],
   "source": [
    "#Create the name list\n",
    "name=[x['name'] for x in dict_values]\n",
    "print(name)\n"
   ]
  },
  {
   "cell_type": "code",
   "execution_count": null,
   "id": "f10cbba2",
   "metadata": {},
   "outputs": [],
   "source": [
    "#Create the email list\n",
    "email=[x['email'] for x in dict_values]\n",
    "print(email)\n"
   ]
  },
  {
   "cell_type": "code",
   "execution_count": null,
   "id": "a1f42790",
   "metadata": {},
   "outputs": [],
   "source": [
    "# Create a contact_info DataFrame and add each list of values, i.e., each row \n",
    "# to the 'contact_id', 'name', 'email' columns.\n",
    "data={ 'contact_id':contact_id,\n",
    "       'name':name,\n",
    "       'email':email\n",
    "}\n",
    "contact_info_df = pd.DataFrame(data)\n",
    "contact_info_df.head()\n"
   ]
  },
  {
   "cell_type": "code",
   "execution_count": null,
   "id": "49220576",
   "metadata": {},
   "outputs": [],
   "source": [
    "# Check the datatypes.\n",
    "contact_info_df.dtypes\n"
   ]
  },
  {
   "cell_type": "code",
   "execution_count": null,
   "id": "8b653d80",
   "metadata": {},
   "outputs": [],
   "source": [
    "# Create a \"first\"name\" and \"last_name\" column with the first and last names from the \"name\" column. \n",
    "contact_info_df[['first_name','last_name']]=contact_info_df['name'].str.split(' ',n=2,expand=True)\n"
   ]
  },
  {
   "cell_type": "code",
   "execution_count": null,
   "id": "63a3f2b6",
   "metadata": {},
   "outputs": [],
   "source": [
    "contacts_df_clean=contact_info_df.drop(columns=['name'])\n",
    "contacts_df_clean.head()\n"
   ]
  },
  {
   "cell_type": "code",
   "execution_count": null,
   "id": "cfd3ad13",
   "metadata": {},
   "outputs": [],
   "source": [
    "contacts_df_clean.columns"
   ]
  },
  {
   "cell_type": "code",
   "execution_count": null,
   "id": "2bfc52ea",
   "metadata": {},
   "outputs": [],
   "source": [
    "# Reorder the columns\n",
    "contacts_df_clean=contacts_df_clean[['contact_id','first_name', 'last_name','email']]\n",
    "contacts_df_clean.head()\n"
   ]
  },
  {
   "cell_type": "code",
   "execution_count": null,
   "id": "44738642",
   "metadata": {},
   "outputs": [],
   "source": [
    "# Check the datatypes one more time before exporting as CSV file.\n",
    "contacts_df_clean.dtypes"
   ]
  },
  {
   "cell_type": "code",
   "execution_count": null,
   "id": "bf5ab67e",
   "metadata": {},
   "outputs": [],
   "source": [
    "# Export the DataFrame as a CSV file. \n",
    "contacts_df_clean.to_csv(\"Resources/contacts.csv\", encoding='utf8', index=False)"
   ]
  }
 ],
 "metadata": {
  "kernelspec": {
   "display_name": "Python [conda env:PythonData]",
   "language": "python",
   "name": "conda-env-PythonData-py"
  },
  "language_info": {
   "codemirror_mode": {
    "name": "ipython",
    "version": 3
   },
   "file_extension": ".py",
   "mimetype": "text/x-python",
   "name": "python",
   "nbconvert_exporter": "python",
   "pygments_lexer": "ipython3",
   "version": "3.7.15"
  }
 },
 "nbformat": 4,
 "nbformat_minor": 5
}
